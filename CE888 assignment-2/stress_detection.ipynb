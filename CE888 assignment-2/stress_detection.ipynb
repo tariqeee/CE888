{
  "cells": [
    {
      "attachments": {},
      "cell_type": "markdown",
      "metadata": {
        "id": "xo0BP_l3Bce5"
      },
      "source": [
        "# Data variables"
      ]
    },
    {
      "cell_type": "code",
      "execution_count": null,
      "metadata": {},
      "outputs": [],
      "source": [
        "pathdf = r'content/combined_lagEDA.csv' # Main Dataset Path \n",
        "Yvar = 'Stress' # Here is the name of the variable Y to predict \n",
        "aggtype = ['mean', 'std'] #group ways std\n",
        "palette = 'flare'\n",
        "seed = 49\n",
        "test_size = 0.30 #This is %size of test of this project "
      ]
    },
    {
      "attachments": {},
      "cell_type": "markdown",
      "metadata": {
        "id": "cZW0xXK7BcfQ"
      },
      "source": [
        "## libraries   "
      ]
    },
    {
      "cell_type": "code",
      "execution_count": null,
      "metadata": {
        "execution": {
          "iopub.execute_input": "2023-02-27T14:14:52.427242Z",
          "iopub.status.busy": "2023-02-27T14:14:52.426892Z",
          "iopub.status.idle": "2023-02-27T14:14:52.437481Z",
          "shell.execute_reply": "2023-02-27T14:14:52.436241Z",
          "shell.execute_reply.started": "2023-02-27T14:14:52.427208Z"
        },
        "id": "Xz9braGIBcfR",
        "trusted": true
      },
      "outputs": [],
      "source": [
        "import pandas as pd\n",
        "import seaborn as sns\n",
        "import matplotlib.pyplot as plt\n",
        "from sklearn.model_selection import train_test_split\n",
        "from sklearn.metrics import accuracy_score, confusion_matrix\n",
        "from sklearn.neighbors import KNeighborsClassifier\n",
        "from sklearn.feature_selection import RFE\n",
        "from sklearn.tree import DecisionTreeClassifier\n",
        "from sklearn.pipeline import Pipeline\n",
        "from sklearn.naive_bayes import GaussianNB\n",
        "from sklearn.model_selection import StratifiedKFold\n",
        "from sklearn.model_selection import cross_val_score\n",
        "from sklearn.metrics import classification_report\n",
        "from sklearn import metrics\n",
        "from sklearn.neighbors import KNeighborsClassifier\n",
        "from sklearn.naive_bayes import GaussianNB\n",
        "from sklearn.tree import DecisionTreeClassifier\n",
        "from sklearn.model_selection import StratifiedKFold, cross_val_score"
      ]
    },
    {
      "cell_type": "code",
      "execution_count": null,
      "metadata": {},
      "outputs": [],
      "source": [
        "#Here is Color Plette \n",
        "sns.color_palette(palette, 10)"
      ]
    },
    {
      "cell_type": "markdown",
      "metadata": {
        "id": "kS7Y2WdBBcfS"
      },
      "source": [
        "## Overview"
      ]
    },
    {
      "cell_type": "code",
      "execution_count": null,
      "metadata": {
        "colab": {
          "base_uri": "https://localhost:8080/",
          "height": 0
        },
        "execution": {
          "iopub.execute_input": "2023-02-27T14:14:52.46027Z",
          "iopub.status.busy": "2023-02-27T14:14:52.45942Z",
          "iopub.status.idle": "2023-02-27T14:14:52.494113Z",
          "shell.execute_reply": "2023-02-27T14:14:52.492768Z",
          "shell.execute_reply.started": "2023-02-27T14:14:52.46023Z"
        },
        "id": "9IruW5raBcfT",
        "outputId": "b76a0d45-39b7-40c2-fab1-02b4db76ebcc",
        "trusted": true
      },
      "outputs": [],
      "source": [
        "#Here is my data load function using the pandas library, i Loaded 12445 rows and 49 columns\n",
        "df = pd.read_csv(pathdf)  \n",
        "print(df)"
      ]
    },
    {
      "cell_type": "code",
      "execution_count": null,
      "metadata": {},
      "outputs": [],
      "source": [
        "#here is all data of this data set 5 rows and 49 columns but I will be work only specific data, I have loaded this project data next df.head().\n",
        "df.head()  "
      ]
    },
    {
      "attachments": {},
      "cell_type": "markdown",
      "metadata": {},
      "source": [
        "## Secondary Data for this project"
      ]
    },
    {
      "cell_type": "code",
      "execution_count": null,
      "metadata": {
        "colab": {
          "base_uri": "https://localhost:8080/",
          "height": 206
        },
        "execution": {
          "iopub.execute_input": "2023-02-27T14:14:52.498358Z",
          "iopub.status.busy": "2023-02-27T14:14:52.497855Z",
          "iopub.status.idle": "2023-02-27T14:14:52.523093Z",
          "shell.execute_reply": "2023-02-27T14:14:52.521753Z",
          "shell.execute_reply.started": "2023-02-27T14:14:52.498304Z"
        },
        "id": "IFV61ducBcfT",
        "outputId": "eff7a407-dca6-404c-ebbe-9ddacd522f98",
        "trusted": true
      },
      "outputs": [],
      "source": [
        "# Here are my selected only the desired columns for this project below and update data frame df will load future function \n",
        "selected_columns = ['EDAR_Mean', 'EDAR_Std', 'Num_PeaksR', 'HRR_Mean', 'HRR_Std', 'TEMPR_Mean', 'TEMPR_Std', 'Stress']\n",
        "df = df[selected_columns]\n",
        "df.head()"
      ]
    },
    {
      "cell_type": "code",
      "execution_count": null,
      "metadata": {
        "colab": {
          "base_uri": "https://localhost:8080/",
          "height": 0
        },
        "execution": {
          "iopub.execute_input": "2023-02-27T14:14:52.524749Z",
          "iopub.status.busy": "2023-02-27T14:14:52.524384Z",
          "iopub.status.idle": "2023-02-27T14:14:52.532849Z",
          "shell.execute_reply": "2023-02-27T14:14:52.531312Z",
          "shell.execute_reply.started": "2023-02-27T14:14:52.524715Z"
        },
        "id": "0AZnGVjtBcfU",
        "outputId": "826625fe-66ea-4f72-9a40-265f5b4b8493",
        "trusted": true
      },
      "outputs": [],
      "source": [
        "#Here is totale data rows and columns \n",
        "df.shape "
      ]
    },
    {
      "attachments": {},
      "cell_type": "markdown",
      "metadata": {
        "id": "lUF0i0U0BcfU"
      },
      "source": [
        "## Descriptives statistics of the data"
      ]
    },
    {
      "cell_type": "markdown",
      "metadata": {
        "id": "ujmhU0I3BcfV"
      },
      "source": [
        "### Univariate"
      ]
    },
    {
      "cell_type": "code",
      "execution_count": null,
      "metadata": {
        "colab": {
          "base_uri": "https://localhost:8080/",
          "height": 300
        },
        "execution": {
          "iopub.execute_input": "2023-02-27T14:14:52.535236Z",
          "iopub.status.busy": "2023-02-27T14:14:52.534784Z",
          "iopub.status.idle": "2023-02-27T14:14:52.578861Z",
          "shell.execute_reply": "2023-02-27T14:14:52.577255Z",
          "shell.execute_reply.started": "2023-02-27T14:14:52.535189Z"
        },
        "id": "iocvQ9oGBcfV",
        "outputId": "8d90da09-091e-41fd-f188-7d1623e89ec2",
        "trusted": true
      },
      "outputs": [],
      "source": [
        "#Here is data describe for this project. \n",
        "df.describe().T"
      ]
    },
    {
      "cell_type": "code",
      "execution_count": null,
      "metadata": {
        "colab": {
          "base_uri": "https://localhost:8080/",
          "height": 0
        },
        "execution": {
          "iopub.execute_input": "2023-02-27T14:14:52.581493Z",
          "iopub.status.busy": "2023-02-27T14:14:52.580492Z",
          "iopub.status.idle": "2023-02-27T14:14:52.591354Z",
          "shell.execute_reply": "2023-02-27T14:14:52.589866Z",
          "shell.execute_reply.started": "2023-02-27T14:14:52.58145Z"
        },
        "id": "Uld27NbzBcfW",
        "outputId": "6e851169-422f-4030-9c3f-65c738f9d38a",
        "trusted": true
      },
      "outputs": [],
      "source": [
        "#Here is check the number of missing (NaN) values for each column in this DataFrame,\n",
        "df.isna().sum()"
      ]
    },
    {
      "cell_type": "code",
      "execution_count": null,
      "metadata": {
        "colab": {
          "base_uri": "https://localhost:8080/",
          "height": 0
        },
        "execution": {
          "iopub.execute_input": "2023-02-27T14:14:52.593666Z",
          "iopub.status.busy": "2023-02-27T14:14:52.59328Z",
          "iopub.status.idle": "2023-02-27T14:14:52.613066Z",
          "shell.execute_reply": "2023-02-27T14:14:52.611723Z",
          "shell.execute_reply.started": "2023-02-27T14:14:52.593619Z"
        },
        "id": "j7-kLvt4BcfW",
        "outputId": "c7cab337-cb37-4dc3-cbf8-c321bdacd291",
        "trusted": true
      },
      "outputs": [],
      "source": [
        "# Display a summary of the DataFrame\n",
        "df.info()"
      ]
    },
    {
      "cell_type": "code",
      "execution_count": null,
      "metadata": {
        "colab": {
          "base_uri": "https://localhost:8080/",
          "height": 206
        },
        "execution": {
          "iopub.execute_input": "2023-02-27T14:14:52.616742Z",
          "iopub.status.busy": "2023-02-27T14:14:52.614613Z",
          "iopub.status.idle": "2023-02-27T14:14:52.646958Z",
          "shell.execute_reply": "2023-02-27T14:14:52.645134Z",
          "shell.execute_reply.started": "2023-02-27T14:14:52.616693Z"
        },
        "id": "R7A4rmh7BcfX",
        "outputId": "509e3d1e-cf8e-4cf1-eae9-f6a69b28de80",
        "trusted": true
      },
      "outputs": [],
      "source": [
        "# Here is assuming the DataFrame 'df' and group by column 'Yvar' and apply aggregation function(s) from 'aggtype'\n",
        "df.groupby(Yvar).agg(aggtype)"
      ]
    },
    {
      "attachments": {},
      "cell_type": "markdown",
      "metadata": {
        "id": "w5K5rLuEBcfX"
      },
      "source": [
        "### Data Bivariates Stap"
      ]
    },
    {
      "cell_type": "code",
      "execution_count": null,
      "metadata": {
        "colab": {
          "base_uri": "https://localhost:8080/",
          "height": 300
        },
        "execution": {
          "iopub.execute_input": "2023-02-27T14:14:52.652537Z",
          "iopub.status.busy": "2023-02-27T14:14:52.652071Z",
          "iopub.status.idle": "2023-02-27T14:14:52.672371Z",
          "shell.execute_reply": "2023-02-27T14:14:52.671134Z",
          "shell.execute_reply.started": "2023-02-27T14:14:52.652497Z"
        },
        "id": "Jje1Y9E3BcfY",
        "outputId": "2cb77300-84e3-467a-9eeb-2fb5b606e132",
        "trusted": true
      },
      "outputs": [],
      "source": [
        "# Here is assuming 'df' this DataFrame\n",
        "df.corr()"
      ]
    },
    {
      "cell_type": "code",
      "execution_count": null,
      "metadata": {
        "colab": {
          "base_uri": "https://localhost:8080/",
          "height": 739
        },
        "execution": {
          "iopub.execute_input": "2023-02-27T14:14:52.677448Z",
          "iopub.status.busy": "2023-02-27T14:14:52.676809Z",
          "iopub.status.idle": "2023-02-27T14:14:52.699132Z",
          "shell.execute_reply": "2023-02-27T14:14:52.697718Z",
          "shell.execute_reply.started": "2023-02-27T14:14:52.6774Z"
        },
        "id": "GuGchl5jBcfY",
        "outputId": "cdfd0ea1-1773-4a53-94a6-6f0407f3151a",
        "trusted": true
      },
      "outputs": [],
      "source": [
        "# I have assuming this DataFrame 'df' and a column name for grouping 'Yvar'\n",
        "df.groupby(Yvar).corr() "
      ]
    },
    {
      "attachments": {},
      "cell_type": "markdown",
      "metadata": {
        "id": "IyfTxICGBcfZ"
      },
      "source": [
        "## Visualization step "
      ]
    },
    {
      "cell_type": "code",
      "execution_count": null,
      "metadata": {
        "colab": {
          "base_uri": "https://localhost:8080/",
          "height": 613
        },
        "id": "W0liyjLdP3db",
        "outputId": "67f2297f-7262-4863-af69-8ef897a31c1e"
      },
      "outputs": [],
      "source": [
        "# This is custom figure size of 15x8 inches code\n",
        "plt.figure(figsize=(15, 8))\n",
        "\n",
        "# This is heatmap of the correlation matrix for the DataFrame `df`\n",
        "# Display the correlation values inside each square cell, rounded to one decimal place\n",
        "sns.heatmap(df.corr(), annot=True, square=True, fmt='.1f')\n",
        "\n",
        "# title 'Correlation' to the plot with a font size of 20\n",
        "plt.title('Correlation', fontsize=20)\n",
        "\n",
        "# Display the plot\n",
        "plt.show()\n"
      ]
    },
    {
      "cell_type": "code",
      "execution_count": null,
      "metadata": {
        "colab": {
          "base_uri": "https://localhost:8080/",
          "height": 1000
        },
        "execution": {
          "iopub.execute_input": "2023-02-27T14:14:52.970238Z",
          "iopub.status.busy": "2023-02-27T14:14:52.969911Z",
          "iopub.status.idle": "2023-02-27T14:14:57.143868Z",
          "shell.execute_reply": "2023-02-27T14:14:57.142763Z",
          "shell.execute_reply.started": "2023-02-27T14:14:52.970207Z"
        },
        "id": "e2JaVfUVBcfa",
        "outputId": "d7121039-8bd4-418d-d41d-e51dca4abded",
        "trusted": true
      },
      "outputs": [],
      "source": [
        "#Here is pairplot using Seaborn with specific figure size 15x8, hue, and color palette \n",
        "plt.figure(figsize = (15,8))\n",
        "sns.pairplot(df, hue=Yvar, palette=palette)"
      ]
    },
    {
      "cell_type": "code",
      "execution_count": null,
      "metadata": {},
      "outputs": [],
      "source": [
        "#here are histograms by iterating over the columns and plotting them individually\n",
        "df.columns = ['EDAR_Mean', 'EDAR_Std', 'Num_peaksR', 'HRR_Mean', 'HRR_Std', 'TEMPR_Mean', 'TEMPR_Std', 'Stress']\n",
        "colors = ['#eab889', '#8cd0eb', '#e28389', '#7ebf88', '#d989e2', '#bfe288', '#89d0e2']\n",
        "\n",
        "data = df.copy()\n",
        "data.drop('Stress', axis=1, inplace=True)\n",
        "\n",
        "#This is figure size for the plt 25x15 and font size 18\n",
        "plt.figure(figsize=(25, 15))\n",
        "plt.rcParams['font.size'] = 18\n",
        "\n",
        "\n",
        "#The for loop iterates through each column name and its corresponding color from the data.columns and colors lists.\n",
        "for idx, (column, color) in enumerate(zip(data.columns, colors)):\n",
        "    plt.subplot(3, 3, idx + 1)\n",
        "    sns.histplot(data[column], bins=15, color=color, kde=True)\n",
        "    plt.title(column)\n",
        "plt.tight_layout()\n",
        "plt.show()\n"
      ]
    },
    {
      "cell_type": "code",
      "execution_count": null,
      "metadata": {
        "colab": {
          "base_uri": "https://localhost:8080/",
          "height": 392
        },
        "id": "XgrbEp3fQF-b",
        "outputId": "11220b57-693d-48e8-895e-841c2360fc0e"
      },
      "outputs": [],
      "source": [
        "#Now I am doing  assuming 'data' in this DataFrame figure size 14x14 \n",
        "data.plot(kind='box', subplots=True, layout=(2, 14), figsize=(14, 14), sharex=False, sharey=False)\n",
        "\n",
        "# Adjust subplot spacing\n",
        "plt.subplots_adjust(left=0.1,\n",
        "                    bottom=0.1, \n",
        "                    right=2, \n",
        "                    top=0.9, \n",
        "                    wspace=0.4, \n",
        "                    hspace=0.4)\n",
        "# Show the plot\n",
        "plt.show()\n"
      ]
    },
    {
      "cell_type": "code",
      "execution_count": null,
      "metadata": {
        "colab": {
          "base_uri": "https://localhost:8080/",
          "height": 350
        },
        "id": "XRDaW1B4OykG",
        "outputId": "c5cc64f1-44e6-459a-9145-b103187dda7a"
      },
      "outputs": [],
      "source": [
        "#lets check count of Stress\n",
        "sns.countplot(df[\"Stress\"])\n",
        "plt.show()"
      ]
    },
    {
      "attachments": {},
      "cell_type": "markdown",
      "metadata": {
        "id": "ihH_WfmkBcfa"
      },
      "source": [
        "## The Classification"
      ]
    },
    {
      "attachments": {},
      "cell_type": "markdown",
      "metadata": {
        "id": "zP6e8a43Bcfb"
      },
      "source": [
        "### Exploration of this model "
      ]
    },
    {
      "attachments": {},
      "cell_type": "markdown",
      "metadata": {
        "id": "wdhTli8dBcfb"
      },
      "source": [
        "Simply attempting to implement an ML algorithm (without optimization or an ideal selection)"
      ]
    },
    {
      "attachments": {},
      "cell_type": "markdown",
      "metadata": {},
      "source": [
        "#### K-NN\n",
        "- **Keyword** : straightforward, comprehensible, flexible, ML\n",
        "- **utilization** : detecting handwriting, recognizing images, identifying video content\n",
        "- **Strengths**: valuable when labeled data is costly or unattainable, provides high accuracy\n",
        "- **Weaknesses**: struggles with a large number of features (requires more data, leading to a risk of overfitting)\n",
        "\n",
        "In this case, it's suitable since we don't have an excessive number of features."
      ]
    },
    {
      "cell_type": "code",
      "execution_count": null,
      "metadata": {},
      "outputs": [],
      "source": [
        "#Prepiaring the feature matrix (X) and target vector (Y) by dropping the target variable (Yvar) from the DataFrame (df) of this the \n",
        "X = df.drop(Yvar, axis=1)\n",
        "Y = df[Yvar]\n",
        "X_train, X_test, y_train, y_test = train_test_split(X, Y, test_size=0.2, stratify=Y, random_state=42) #test_size=0.2: 20% of the data is used for testing"
      ]
    },
    {
      "cell_type": "code",
      "execution_count": null,
      "metadata": {
        "execution": {
          "iopub.execute_input": "2023-02-27T14:14:57.16031Z",
          "iopub.status.busy": "2023-02-27T14:14:57.159671Z",
          "iopub.status.idle": "2023-02-27T14:14:57.168085Z",
          "shell.execute_reply": "2023-02-27T14:14:57.166904Z",
          "shell.execute_reply.started": "2023-02-27T14:14:57.16027Z"
        },
        "id": "L9U99XlgBcfd",
        "trusted": true
      },
      "outputs": [],
      "source": [
        "#Now initialize a K-Nearest Neighbors (KNN) classifier with 3 nearest neighbors \n",
        "knn = KNeighborsClassifier(n_neighbors=3)"
      ]
    },
    {
      "cell_type": "code",
      "execution_count": null,
      "metadata": {
        "colab": {
          "base_uri": "https://localhost:8080/",
          "height": 75
        },
        "execution": {
          "iopub.execute_input": "2023-02-27T14:14:57.170338Z",
          "iopub.status.busy": "2023-02-27T14:14:57.169551Z",
          "iopub.status.idle": "2023-02-27T14:14:57.191993Z",
          "shell.execute_reply": "2023-02-27T14:14:57.190636Z",
          "shell.execute_reply.started": "2023-02-27T14:14:57.170288Z"
        },
        "id": "IiZQ9rVzBcfe",
        "outputId": "6b16f7d9-107b-41d4-c710-659ef582d5a8",
        "trusted": true
      },
      "outputs": [],
      "source": [
        "#data training \n",
        "knn.fit(X_train, y_train)"
      ]
    },
    {
      "cell_type": "code",
      "execution_count": null,
      "metadata": {
        "colab": {
          "base_uri": "https://localhost:8080/",
          "height": 0
        },
        "execution": {
          "iopub.execute_input": "2023-02-27T14:14:57.194408Z",
          "iopub.status.busy": "2023-02-27T14:14:57.193344Z",
          "iopub.status.idle": "2023-02-27T14:14:57.226601Z",
          "shell.execute_reply": "2023-02-27T14:14:57.225465Z",
          "shell.execute_reply.started": "2023-02-27T14:14:57.194341Z"
        },
        "id": "xp20EZVJBcff",
        "outputId": "2472b526-230c-4d28-b192-20491f1f58cc",
        "trusted": true
      },
      "outputs": [],
      "source": [
        "#here is my first data training accuact score knn\n",
        "accuracy_score(y_test,knn.predict(X_test))"
      ]
    },
    {
      "attachments": {},
      "cell_type": "markdown",
      "metadata": {
        "id": "xZca2ec-Bcff"
      },
      "source": [
        "#### KNN with Feature Selection\n",
        "KNN performs better with fewer features, especially since the features in this dataset appear to be correlated. To reduce the dimensionality, we will use Recursive Feature Selection (RFS) to decrease the number of features to 2."
      ]
    },
    {
      "cell_type": "code",
      "execution_count": null,
      "metadata": {
        "execution": {
          "iopub.execute_input": "2023-02-27T14:14:57.229111Z",
          "iopub.status.busy": "2023-02-27T14:14:57.228636Z",
          "iopub.status.idle": "2023-02-27T14:14:57.234367Z",
          "shell.execute_reply": "2023-02-27T14:14:57.233412Z",
          "shell.execute_reply.started": "2023-02-27T14:14:57.229062Z"
        },
        "id": "rDhHUi8cBcfg",
        "trusted": true
      },
      "outputs": [],
      "source": [
        "# Now I am going to initialize the Recursive Feature Elimination (RFE) object with the DecisionTreeClassifier as the estimator\n",
        "rfe = RFE(estimator=DecisionTreeClassifier(), n_features_to_select=2) # The goal is to select the top 2 features from the dataset"
      ]
    },
    {
      "cell_type": "code",
      "execution_count": null,
      "metadata": {
        "execution": {
          "iopub.execute_input": "2023-02-27T14:14:57.236486Z",
          "iopub.status.busy": "2023-02-27T14:14:57.235755Z",
          "iopub.status.idle": "2023-02-27T14:14:57.247942Z",
          "shell.execute_reply": "2023-02-27T14:14:57.24674Z",
          "shell.execute_reply.started": "2023-02-27T14:14:57.236449Z"
        },
        "id": "2gNXUvLIBcfh",
        "trusted": true
      },
      "outputs": [],
      "source": [
        "# It will be creat pipeline with RFE for feature selection and KNN for classification \n",
        "pipeline = Pipeline(steps=[('RFE', rfe), ('KNN', knn)])"
      ]
    },
    {
      "cell_type": "code",
      "execution_count": null,
      "metadata": {
        "colab": {
          "base_uri": "https://localhost:8080/",
          "height": 192
        },
        "execution": {
          "iopub.execute_input": "2023-02-27T14:14:57.250222Z",
          "iopub.status.busy": "2023-02-27T14:14:57.249546Z",
          "iopub.status.idle": "2023-02-27T14:14:57.275853Z",
          "shell.execute_reply": "2023-02-27T14:14:57.274921Z",
          "shell.execute_reply.started": "2023-02-27T14:14:57.250183Z"
        },
        "id": "uR_YJyppBcfi",
        "outputId": "e85b0315-7f1a-429f-fad4-01631b70c313",
        "trusted": true
      },
      "outputs": [],
      "source": [
        "# Need to fit the pipeline to the training of this data\n",
        "pipeline.fit(X_train, y_train)"
      ]
    },
    {
      "cell_type": "code",
      "execution_count": null,
      "metadata": {
        "colab": {
          "base_uri": "https://localhost:8080/",
          "height": 0
        },
        "execution": {
          "iopub.execute_input": "2023-02-27T14:14:57.277724Z",
          "iopub.status.busy": "2023-02-27T14:14:57.277352Z",
          "iopub.status.idle": "2023-02-27T14:14:57.307954Z",
          "shell.execute_reply": "2023-02-27T14:14:57.306537Z",
          "shell.execute_reply.started": "2023-02-27T14:14:57.277681Z"
        },
        "id": "iOpcewCMBcfi",
        "outputId": "18e68b2c-adad-4f9c-8961-9d1d91c48c29",
        "trusted": true
      },
      "outputs": [],
      "source": [
        "#here is my secound data training accuact score knn\n",
        "accuracy_score(y_test,pipeline.predict(X_test))"
      ]
    },
    {
      "attachments": {},
      "cell_type": "markdown",
      "metadata": {
        "id": "d1yfZXuwBcfj"
      },
      "source": [
        "## A bit better KNN model Cross Validation"
      ]
    },
    {
      "cell_type": "code",
      "execution_count": null,
      "metadata": {
        "colab": {
          "base_uri": "https://localhost:8080/",
          "height": 0
        },
        "id": "-rQ0jawBBcfj",
        "outputId": "9cf4d730-8082-491a-f00b-5dd758ed5e7b"
      },
      "outputs": [],
      "source": [
        "# Import random_state\n",
        "from pandas.core.common import random_state\n",
        "\n",
        "# Initialize parameters for KNeighborsClassifier and DecisionTreeClassifier\n",
        "k = [5,10,15]\n",
        "max_depth = [20, 40, 60]\n",
        "\n",
        "\n",
        "# Iterate over the parameter combinations\n",
        "for i in range(3):\n",
        "    models = []\n",
        "    models.append(('KNN', KNeighborsClassifier(n_neighbors=k[i])))\n",
        "    models.append(('NB', GaussianNB()))\n",
        "    models.append(('DT', DecisionTreeClassifier(max_depth=max_depth[i], random_state=101)))\n",
        "    results = []\n",
        "    names = []\n",
        "    print(\"K:\",k[i], \"and max_depth:\", max_depth[i])\n",
        "    for name, model in models:\n",
        "        kfold = StratifiedKFold(n_splits=5, random_state=1, shuffle=True)\n",
        "        cv_results = cross_val_score(model, X_train, y_train, cv=kfold, scoring='accuracy')\n",
        "        results.append(cv_results)\n",
        "        names.append(name)\n",
        "        print('%s: %f (%f)' % (name, cv_results.mean(), cv_results.std()))\n",
        "    print(\"\")"
      ]
    },
    {
      "cell_type": "code",
      "execution_count": null,
      "metadata": {
        "id": "0SeBNhTnQhfy"
      },
      "outputs": [],
      "source": [
        "# Need to create a KNeighborsClassifier model with n_neighbors set to 5\n",
        "model_KNN = KNeighborsClassifier(n_neighbors=5)\n",
        "\n",
        "# Fit the model on the training data\n",
        "model_KNN.fit(X_train, y_train)\n",
        "\n",
        "# Here is make predictions using the trained model on the test data \n",
        "predict_KNN = model_KNN.predict(X_test)\n"
      ]
    },
    {
      "cell_type": "code",
      "execution_count": null,
      "metadata": {
        "id": "TrRexhR3RHrb"
      },
      "outputs": [],
      "source": [
        "# To create a GaussianNB model \n",
        "model_NB = GaussianNB()\n",
        "\n",
        "# Fit the model on the training data\n",
        "model_NB.fit(X_train, y_train)\n",
        "\n",
        "# Make predictions using the trained model on the test data\n",
        "predict_NB = model_NB.predict(X_test)\n"
      ]
    },
    {
      "cell_type": "code",
      "execution_count": null,
      "metadata": {
        "id": "rNBZhkkMRKLB"
      },
      "outputs": [],
      "source": [
        "# This is DecisionTreeClassifier model with max_depth=40 and random_state=101\n",
        "model_DT = DecisionTreeClassifier(max_depth=40, random_state=101)\n",
        "\n",
        "# Fit the model on the training data\n",
        "model_DT.fit(X_train, y_train)\n",
        "\n",
        "# Make predictions using the trained model on the test data\n",
        "predict_DT = model_DT.predict(X_test)\n"
      ]
    },
    {
      "cell_type": "code",
      "execution_count": null,
      "metadata": {
        "colab": {
          "base_uri": "https://localhost:8080/",
          "height": 295
        },
        "id": "TN3JZ3UCRPfS",
        "outputId": "6da93374-d6c4-46db-9ddd-937da2de0125"
      },
      "outputs": [],
      "source": [
        "# Calculate the confusion matrix using the true labels (y_test) and the predicted labels (predict_KNN)\n",
        "confusion_matrix = metrics.confusion_matrix(y_test, predict_KNN)\n",
        "\n",
        "# Create a confusion matrix display with the calculated confusion matrix and display labels [0, 1, 2]\n",
        "cm_display = metrics.ConfusionMatrixDisplay(confusion_matrix=confusion_matrix, display_labels=[0, 1, 2])\n",
        "\n",
        "# Plot the confusion matrix\n",
        "cm_display.plot()\n",
        "plt.show()\n"
      ]
    },
    {
      "cell_type": "code",
      "execution_count": null,
      "metadata": {
        "colab": {
          "base_uri": "https://localhost:8080/",
          "height": 0
        },
        "id": "a62Qy4yQRT74",
        "outputId": "d4629156-c6d2-4a59-a380-316aacbee30d"
      },
      "outputs": [],
      "source": [
        "# Here is our printed classification report of the KNN model predictions\n",
        "print(classification_report(y_test, predict_KNN))"
      ]
    },
    {
      "cell_type": "code",
      "execution_count": null,
      "metadata": {
        "colab": {
          "base_uri": "https://localhost:8080/",
          "height": 297
        },
        "id": "J8e5tPIjRYA3",
        "outputId": "1c35515f-170e-478e-c937-92550f01baef"
      },
      "outputs": [],
      "source": [
        "# Plot the confusion matrix for the Naive Bayes model predictions\n",
        "confusion_matrix = metrics.confusion_matrix(y_test, predict_NB)\n",
        "cm_display = metrics.ConfusionMatrixDisplay(confusion_matrix=confusion_matrix, display_labels=[0, 1, 2])\n",
        "cm_display.plot()\n",
        "plt.show()"
      ]
    },
    {
      "cell_type": "code",
      "execution_count": null,
      "metadata": {
        "colab": {
          "base_uri": "https://localhost:8080/",
          "height": 0
        },
        "id": "6vFCJykfRaKQ",
        "outputId": "2050abcc-a3a1-4056-ab5a-b6ff41f211d3"
      },
      "outputs": [],
      "source": [
        "# Here is our printed classification report of the KNN model predictions\n",
        "print(classification_report(y_test, predict_NB))"
      ]
    },
    {
      "cell_type": "code",
      "execution_count": null,
      "metadata": {
        "colab": {
          "base_uri": "https://localhost:8080/",
          "height": 295
        },
        "id": "mjzDZHarReb0",
        "outputId": "f4801580-c75b-48d6-dccf-c500f28ba732"
      },
      "outputs": [],
      "source": [
        "# Plot the confusion matrix for the Naive Bayes model predictions\n",
        "confusion_matrix = metrics.confusion_matrix(y_test, predict_DT)\n",
        "cm_display = metrics.ConfusionMatrixDisplay(confusion_matrix = confusion_matrix, display_labels = [0,1,2])\n",
        "cm_display.plot()\n",
        "plt.show()"
      ]
    },
    {
      "cell_type": "code",
      "execution_count": null,
      "metadata": {
        "colab": {
          "base_uri": "https://localhost:8080/",
          "height": 0
        },
        "id": "vdGcDU-kRkDz",
        "outputId": "bed8bf2f-18d9-45aa-d4d3-c6d592d980ad"
      },
      "outputs": [],
      "source": [
        "# Here is our printed classification report of the KNN model predictions\n",
        "print(classification_report(y_test, predict_DT))"
      ]
    },
    {
      "attachments": {},
      "cell_type": "markdown",
      "metadata": {},
      "source": [
        "###"
      ]
    },
    {
      "attachments": {},
      "cell_type": "markdown",
      "metadata": {},
      "source": [
        "### Thank you"
      ]
    }
  ],
  "metadata": {
    "colab": {
      "provenance": []
    },
    "kernelspec": {
      "display_name": "Python 3",
      "language": "python",
      "name": "python3"
    },
    "language_info": {
      "codemirror_mode": {
        "name": "ipython",
        "version": 3
      },
      "file_extension": ".py",
      "mimetype": "text/x-python",
      "name": "python",
      "nbconvert_exporter": "python",
      "pygments_lexer": "ipython3",
      "version": "3.10.6"
    }
  },
  "nbformat": 4,
  "nbformat_minor": 0
}
